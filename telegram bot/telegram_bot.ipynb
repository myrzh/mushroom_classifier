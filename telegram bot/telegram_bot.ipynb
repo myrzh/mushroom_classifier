{
  "nbformat": 4,
  "nbformat_minor": 0,
  "metadata": {
    "colab": {
      "name": "telegram bot.ipynb",
      "provenance": [],
      "collapsed_sections": []
    },
    "kernelspec": {
      "name": "python3",
      "display_name": "Python 3"
    },
    "language_info": {
      "name": "python"
    }
  },
  "cells": [
    {
      "cell_type": "markdown",
      "metadata": {
        "id": "z-474xr0Cwyn"
      },
      "source": [
        "##Импорт библиотек"
      ]
    },
    {
      "cell_type": "code",
      "metadata": {
        "colab": {
          "base_uri": "https://localhost:8080/"
        },
        "id": "eBwt05hjL8tQ",
        "outputId": "16ff39b1-732c-407b-f2e6-27b2df5a4491"
      },
      "source": [
        "! pip install pytelegrambotapi"
      ],
      "execution_count": 7,
      "outputs": [
        {
          "output_type": "stream",
          "name": "stdout",
          "text": [
            "Requirement already satisfied: pytelegrambotapi in /usr/local/lib/python3.7/dist-packages (4.1.1)\n",
            "Requirement already satisfied: requests in /usr/local/lib/python3.7/dist-packages (from pytelegrambotapi) (2.23.0)\n",
            "Requirement already satisfied: urllib3!=1.25.0,!=1.25.1,<1.26,>=1.21.1 in /usr/local/lib/python3.7/dist-packages (from requests->pytelegrambotapi) (1.24.3)\n",
            "Requirement already satisfied: idna<3,>=2.5 in /usr/local/lib/python3.7/dist-packages (from requests->pytelegrambotapi) (2.10)\n",
            "Requirement already satisfied: certifi>=2017.4.17 in /usr/local/lib/python3.7/dist-packages (from requests->pytelegrambotapi) (2021.5.30)\n",
            "Requirement already satisfied: chardet<4,>=3.0.2 in /usr/local/lib/python3.7/dist-packages (from requests->pytelegrambotapi) (3.0.4)\n"
          ]
        }
      ]
    },
    {
      "cell_type": "code",
      "metadata": {
        "id": "-tQsRl7ACks9"
      },
      "source": [
        "import torch\n",
        "from PIL import Image\n",
        "from torchvision import transforms\n",
        "import numpy as np\n",
        "import pandas as pd"
      ],
      "execution_count": 8,
      "outputs": []
    },
    {
      "cell_type": "code",
      "metadata": {
        "id": "hJnzvsKfCohL"
      },
      "source": [
        "import telebot\n",
        "import requests\n",
        "import shutil"
      ],
      "execution_count": 9,
      "outputs": []
    },
    {
      "cell_type": "markdown",
      "metadata": {
        "id": "4DT8oLxPEzhv"
      },
      "source": [
        "##Иницилизация обвязки модели"
      ]
    },
    {
      "cell_type": "code",
      "metadata": {
        "id": "dPULEHPQE5GQ"
      },
      "source": [
        "resnet_transforms = transforms.Compose([\n",
        "        transforms.Resize(256),\n",
        "        transforms.CenterCrop(224),\n",
        "        transforms.ToTensor(),\n",
        "        transforms.Normalize([0.485, 0.456, 0.406], [0.229, 0.224, 0.225])\n",
        "    ])"
      ],
      "execution_count": 10,
      "outputs": []
    },
    {
      "cell_type": "code",
      "metadata": {
        "colab": {
          "base_uri": "https://localhost:8080/"
        },
        "id": "QgtHdgEfE6kI",
        "outputId": "5b11541f-cb5c-4c28-f40e-e003f4a2db2b"
      },
      "source": [
        "! wget \"https://getfile.dokpub.com/yandex/get/https://yadi.sk/d/DwxCSAMhhNtp9Q\" -O mushroom_database.csv"
      ],
      "execution_count": 11,
      "outputs": [
        {
          "output_type": "stream",
          "name": "stdout",
          "text": [
            "--2021-10-29 08:07:25--  https://getfile.dokpub.com/yandex/get/https://yadi.sk/d/DwxCSAMhhNtp9Q\n",
            "Resolving getfile.dokpub.com (getfile.dokpub.com)... 78.46.92.107\n",
            "Connecting to getfile.dokpub.com (getfile.dokpub.com)|78.46.92.107|:443... connected.\n",
            "HTTP request sent, awaiting response... 302 Moved Temporarily\n",
            "Location: https://downloader.disk.yandex.ru/disk/e718bab48a73d3ee303e177cfec09dbb8972630b76294131dc7bba534cbd7a85/617be3fd/EnbAvYTdHMz2-Pr1wQCZdlsZY2tngKvNB_tdPZIhu6m2H9oQEErpjtwDwpf-3Pe0vHov-Zh1McUhjvKUxEm7lg%3D%3D?uid=0&filename=mushroom_database.csv&disposition=attachment&hash=JrUyajN%2ByEVY9ww5d/0LIVH10ncCGzCUJBKKj1E8DCnGL7rfaRCkmtLrm6cmYPY6q/J6bpmRyOJonT3VoXnDag%3D%3D%3A&limit=0&content_type=text%2Fplain&owner_uid=542830332&fsize=56941&hid=32addc8fe5ef899fedb03ff0ac3365c9&media_type=spreadsheet&tknv=v2 [following]\n",
            "--2021-10-29 08:07:25--  https://downloader.disk.yandex.ru/disk/e718bab48a73d3ee303e177cfec09dbb8972630b76294131dc7bba534cbd7a85/617be3fd/EnbAvYTdHMz2-Pr1wQCZdlsZY2tngKvNB_tdPZIhu6m2H9oQEErpjtwDwpf-3Pe0vHov-Zh1McUhjvKUxEm7lg%3D%3D?uid=0&filename=mushroom_database.csv&disposition=attachment&hash=JrUyajN%2ByEVY9ww5d/0LIVH10ncCGzCUJBKKj1E8DCnGL7rfaRCkmtLrm6cmYPY6q/J6bpmRyOJonT3VoXnDag%3D%3D%3A&limit=0&content_type=text%2Fplain&owner_uid=542830332&fsize=56941&hid=32addc8fe5ef899fedb03ff0ac3365c9&media_type=spreadsheet&tknv=v2\n",
            "Resolving downloader.disk.yandex.ru (downloader.disk.yandex.ru)... 77.88.21.127, 2a02:6b8::2:127\n",
            "Connecting to downloader.disk.yandex.ru (downloader.disk.yandex.ru)|77.88.21.127|:443... connected.\n",
            "HTTP request sent, awaiting response... 302 Found\n",
            "Location: https://s613man.storage.yandex.net/rdisk/e718bab48a73d3ee303e177cfec09dbb8972630b76294131dc7bba534cbd7a85/617be3fd/EnbAvYTdHMz2-Pr1wQCZdlsZY2tngKvNB_tdPZIhu6m2H9oQEErpjtwDwpf-3Pe0vHov-Zh1McUhjvKUxEm7lg==?uid=0&filename=mushroom_database.csv&disposition=attachment&hash=JrUyajN%2ByEVY9ww5d/0LIVH10ncCGzCUJBKKj1E8DCnGL7rfaRCkmtLrm6cmYPY6q/J6bpmRyOJonT3VoXnDag%3D%3D%3A&limit=0&content_type=text%2Fplain&owner_uid=542830332&fsize=56941&hid=32addc8fe5ef899fedb03ff0ac3365c9&media_type=spreadsheet&tknv=v2&rtoken=tWOmsxItV7HD&force_default=no&ycrid=na-d4122fac214c539b424c29a9869fb7dd-downloader20h&ts=5cf7cab933940&s=b8dac905f385c4fb1f86bce5f93cb006091f4eb243cd6e0d87d87bad33779b7e&pb=U2FsdGVkX19JCo-aY0o4SYXdpOI8VAB_Ytn4Q_K4OwpUk6DiyOxBCPnFYcwLBMJLMOgi7yjU_RenONw8TafntHV1Q9v4jlnOpHFTY8OrOO0 [following]\n",
            "--2021-10-29 08:07:27--  https://s613man.storage.yandex.net/rdisk/e718bab48a73d3ee303e177cfec09dbb8972630b76294131dc7bba534cbd7a85/617be3fd/EnbAvYTdHMz2-Pr1wQCZdlsZY2tngKvNB_tdPZIhu6m2H9oQEErpjtwDwpf-3Pe0vHov-Zh1McUhjvKUxEm7lg==?uid=0&filename=mushroom_database.csv&disposition=attachment&hash=JrUyajN%2ByEVY9ww5d/0LIVH10ncCGzCUJBKKj1E8DCnGL7rfaRCkmtLrm6cmYPY6q/J6bpmRyOJonT3VoXnDag%3D%3D%3A&limit=0&content_type=text%2Fplain&owner_uid=542830332&fsize=56941&hid=32addc8fe5ef899fedb03ff0ac3365c9&media_type=spreadsheet&tknv=v2&rtoken=tWOmsxItV7HD&force_default=no&ycrid=na-d4122fac214c539b424c29a9869fb7dd-downloader20h&ts=5cf7cab933940&s=b8dac905f385c4fb1f86bce5f93cb006091f4eb243cd6e0d87d87bad33779b7e&pb=U2FsdGVkX19JCo-aY0o4SYXdpOI8VAB_Ytn4Q_K4OwpUk6DiyOxBCPnFYcwLBMJLMOgi7yjU_RenONw8TafntHV1Q9v4jlnOpHFTY8OrOO0\n",
            "Resolving s613man.storage.yandex.net (s613man.storage.yandex.net)... 37.140.139.137, 2a02:6b8:c01:c20:0:41af:1dff:2de1\n",
            "Connecting to s613man.storage.yandex.net (s613man.storage.yandex.net)|37.140.139.137|:443... connected.\n",
            "HTTP request sent, awaiting response... 200 OK\n",
            "Length: 56941 (56K) [text/plain]\n",
            "Saving to: ‘mushroom_database.csv’\n",
            "\n",
            "mushroom_database.c 100%[===================>]  55.61K   213KB/s    in 0.3s    \n",
            "\n",
            "2021-10-29 08:07:28 (213 KB/s) - ‘mushroom_database.csv’ saved [56941/56941]\n",
            "\n"
          ]
        }
      ]
    },
    {
      "cell_type": "code",
      "metadata": {
        "colab": {
          "base_uri": "https://localhost:8080/"
        },
        "id": "Ohz1OubRE7rk",
        "outputId": "c366a793-84a1-44e3-ebdd-0c0ebbae9a13"
      },
      "source": [
        "! wget \"https://getfile.dokpub.com/yandex/get/https://yadi.sk/d/L1vdaKCEG2ZU-w\" -O mushroom_model.pt"
      ],
      "execution_count": 12,
      "outputs": [
        {
          "output_type": "stream",
          "name": "stdout",
          "text": [
            "--2021-10-29 08:07:28--  https://getfile.dokpub.com/yandex/get/https://yadi.sk/d/L1vdaKCEG2ZU-w\n",
            "Resolving getfile.dokpub.com (getfile.dokpub.com)... 78.46.92.107\n",
            "Connecting to getfile.dokpub.com (getfile.dokpub.com)|78.46.92.107|:443... connected.\n",
            "HTTP request sent, awaiting response... 302 Moved Temporarily\n",
            "Location: https://downloader.disk.yandex.ru/disk/752629ba188a0adf29536fda65adafe375ee70dbf3d41bba28d420b4edcf32b5/617be401/EnbAvYTdHMz2-Pr1wQCZdvz6CH6pXczG5QcGx8zW6nwqNBTgjWXGKSseifeRVfH8g18mZPcrLqErdjuarKuX0Q%3D%3D?uid=0&filename=mushroom_model.pt&disposition=attachment&hash=aZU23jpjhOWHhUFGsyp9epyCf6ANnTmwRrMUl2aXjBu34bx%2BZpcoF7Rf2Sziuozmq/J6bpmRyOJonT3VoXnDag%3D%3D%3A&limit=0&content_type=application%2Fzip&owner_uid=542830332&fsize=44819917&hid=0a53b56ff4f1fdcf066ac84cb570588e&media_type=compressed&tknv=v2 [following]\n",
            "--2021-10-29 08:07:29--  https://downloader.disk.yandex.ru/disk/752629ba188a0adf29536fda65adafe375ee70dbf3d41bba28d420b4edcf32b5/617be401/EnbAvYTdHMz2-Pr1wQCZdvz6CH6pXczG5QcGx8zW6nwqNBTgjWXGKSseifeRVfH8g18mZPcrLqErdjuarKuX0Q%3D%3D?uid=0&filename=mushroom_model.pt&disposition=attachment&hash=aZU23jpjhOWHhUFGsyp9epyCf6ANnTmwRrMUl2aXjBu34bx%2BZpcoF7Rf2Sziuozmq/J6bpmRyOJonT3VoXnDag%3D%3D%3A&limit=0&content_type=application%2Fzip&owner_uid=542830332&fsize=44819917&hid=0a53b56ff4f1fdcf066ac84cb570588e&media_type=compressed&tknv=v2\n",
            "Resolving downloader.disk.yandex.ru (downloader.disk.yandex.ru)... 77.88.21.127, 2a02:6b8::2:127\n",
            "Connecting to downloader.disk.yandex.ru (downloader.disk.yandex.ru)|77.88.21.127|:443... connected.\n",
            "HTTP request sent, awaiting response... 302 Found\n",
            "Location: https://s693sas.storage.yandex.net/rdisk/752629ba188a0adf29536fda65adafe375ee70dbf3d41bba28d420b4edcf32b5/617be401/EnbAvYTdHMz2-Pr1wQCZdvz6CH6pXczG5QcGx8zW6nwqNBTgjWXGKSseifeRVfH8g18mZPcrLqErdjuarKuX0Q==?uid=0&filename=mushroom_model.pt&disposition=attachment&hash=aZU23jpjhOWHhUFGsyp9epyCf6ANnTmwRrMUl2aXjBu34bx%2BZpcoF7Rf2Sziuozmq/J6bpmRyOJonT3VoXnDag%3D%3D%3A&limit=0&content_type=application%2Fzip&owner_uid=542830332&fsize=44819917&hid=0a53b56ff4f1fdcf066ac84cb570588e&media_type=compressed&tknv=v2&rtoken=EeBz7uooeTjK&force_default=no&ycrid=na-15a74e79813be6882e8fc190b001a86f-downloader18h&ts=5cf7cabd04240&s=70f1481a03cb168b9b9cfac65787064d530a133269d5f350bb6ff2010e136e3f&pb=U2FsdGVkX1-RuDVsPTEmbVk0rLGgNqDetse_clttSUZXWLB3IxnV8ci1KGFawQ66Q5TSIKHWQXl-4Q-fFNzR-ycs3hLnAQ-a2JLaZHsq3z0 [following]\n",
            "--2021-10-29 08:07:30--  https://s693sas.storage.yandex.net/rdisk/752629ba188a0adf29536fda65adafe375ee70dbf3d41bba28d420b4edcf32b5/617be401/EnbAvYTdHMz2-Pr1wQCZdvz6CH6pXczG5QcGx8zW6nwqNBTgjWXGKSseifeRVfH8g18mZPcrLqErdjuarKuX0Q==?uid=0&filename=mushroom_model.pt&disposition=attachment&hash=aZU23jpjhOWHhUFGsyp9epyCf6ANnTmwRrMUl2aXjBu34bx%2BZpcoF7Rf2Sziuozmq/J6bpmRyOJonT3VoXnDag%3D%3D%3A&limit=0&content_type=application%2Fzip&owner_uid=542830332&fsize=44819917&hid=0a53b56ff4f1fdcf066ac84cb570588e&media_type=compressed&tknv=v2&rtoken=EeBz7uooeTjK&force_default=no&ycrid=na-15a74e79813be6882e8fc190b001a86f-downloader18h&ts=5cf7cabd04240&s=70f1481a03cb168b9b9cfac65787064d530a133269d5f350bb6ff2010e136e3f&pb=U2FsdGVkX1-RuDVsPTEmbVk0rLGgNqDetse_clttSUZXWLB3IxnV8ci1KGFawQ66Q5TSIKHWQXl-4Q-fFNzR-ycs3hLnAQ-a2JLaZHsq3z0\n",
            "Resolving s693sas.storage.yandex.net (s693sas.storage.yandex.net)... 93.158.158.169, 2a02:6b8:c02:f4d:0:41af:4eae:75b0\n",
            "Connecting to s693sas.storage.yandex.net (s693sas.storage.yandex.net)|93.158.158.169|:443... connected.\n",
            "HTTP request sent, awaiting response... 200 OK\n",
            "Length: 44819917 (43M) [application/zip]\n",
            "Saving to: ‘mushroom_model.pt’\n",
            "\n",
            "mushroom_model.pt   100%[===================>]  42.74M  13.9MB/s    in 3.1s    \n",
            "\n",
            "2021-10-29 08:07:34 (13.9 MB/s) - ‘mushroom_model.pt’ saved [44819917/44819917]\n",
            "\n"
          ]
        }
      ]
    },
    {
      "cell_type": "code",
      "metadata": {
        "id": "65H6utAxE_HA"
      },
      "source": [
        "model_new = torch.load('mushroom_model.pt')"
      ],
      "execution_count": 13,
      "outputs": []
    },
    {
      "cell_type": "code",
      "metadata": {
        "id": "OxjVtrA5FRoq"
      },
      "source": [
        "mtd = pd.read_csv('mushroom_database.csv')"
      ],
      "execution_count": 14,
      "outputs": []
    },
    {
      "cell_type": "markdown",
      "metadata": {
        "id": "K4yIIy18C15H"
      },
      "source": [
        "##Запуск бота"
      ]
    },
    {
      "cell_type": "code",
      "metadata": {
        "id": "FU5VCAdQMJmQ"
      },
      "source": [
        "API_TOKEN = '2027085491:AAGM3mxz4HHOn23AyCowB_A5uj2tMYU6i-0'\n",
        "bot = telebot.TeleBot(API_TOKEN)\n",
        "\n",
        "@bot.message_handler(content_types=[\"photo\"])\n",
        "def echo_message(message):\n",
        "    file_info = bot.get_file(message.photo[-1].file_id) #const\n",
        "    # bot.reply_to(message, f'Got your image: {file_info}')\n",
        "\n",
        "    url = 'https://api.telegram.org/file/bot{0}/{1}'.format(API_TOKEN, file_info.file_path)\n",
        "    response = requests.get(url, stream=True)\n",
        "    \n",
        "    path = 'image.jpg'\n",
        "    if response.status_code == 200:\n",
        "        with open(path, 'wb') as f:\n",
        "            response.raw.decode_content = True\n",
        "            shutil.copyfileobj(response.raw, f)\n",
        "    \n",
        "    img_test = Image.open(path)\n",
        "    img_tensor = resnet_transforms(img_test)\n",
        "    img_tensor = img_tensor.view(1, 3, 224, 224)\n",
        "    output = model_new(img_tensor)\n",
        "    prediction_new = int(torch.max(output.data, 1)[1].numpy())\n",
        "\n",
        "    mushroom = mtd['mushroom'].values[prediction_new] + \"\\n\" + \"\\n\"\n",
        "    description = mtd['description'].values[prediction_new] + \"\\n\" + \"\\n\"\n",
        "    usefulness = mtd['usefulness'].values[prediction_new] + \"\\n\" + \"\\n\"\n",
        "    fact = mtd['fact'].values[prediction_new] + \"\\n\" + \"\\n\"\n",
        "    recipe = mtd['recipe'].values[prediction_new].replace(r'\\n', '\\n')\n",
        "\n",
        "    bot.reply_to(message, mushroom + description + usefulness + fact + recipe)"
      ],
      "execution_count": 41,
      "outputs": []
    },
    {
      "cell_type": "code",
      "metadata": {
        "id": "KqxjwKgAN-Sd"
      },
      "source": [
        "bot.infinity_polling()"
      ],
      "execution_count": null,
      "outputs": []
    }
  ]
}