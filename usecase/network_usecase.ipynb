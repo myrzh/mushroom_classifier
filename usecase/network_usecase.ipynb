{
  "cells": [
    {
      "cell_type": "code",
      "execution_count": 29,
      "metadata": {
        "id": "wdPzJx9C1rn9"
      },
      "outputs": [],
      "source": [
        "import torch\n",
        "from PIL import Image\n",
        "from torchvision import transforms\n",
        "import numpy as np\n",
        "import pandas as pd"
      ]
    },
    {
      "cell_type": "code",
      "execution_count": 30,
      "metadata": {
        "id": "DvlAride2eWC"
      },
      "outputs": [],
      "source": [
        "resnet_transforms = transforms.Compose([\n",
        "        transforms.Resize(256),\n",
        "        transforms.CenterCrop(224),\n",
        "        transforms.ToTensor(),\n",
        "        transforms.Normalize([0.485, 0.456, 0.406], [0.229, 0.224, 0.225])\n",
        "    ])"
      ]
    },
    {
      "cell_type": "code",
      "execution_count": 40,
      "metadata": {
        "colab": {
          "base_uri": "https://localhost:8080/"
        },
        "id": "pMHwFuR6H-SI",
        "outputId": "9cccaadf-e024-4520-b4fb-5c5ff0a1e155"
      },
      "outputs": [
        {
          "name": "stdout",
          "output_type": "stream",
          "text": [
            "--2021-10-28 08:59:41--  https://getfile.dokpub.com/yandex/get/https://yadi.sk/d/pbVsNO4_OvzPag\n",
            "Resolving getfile.dokpub.com (getfile.dokpub.com)... 78.46.92.107\n",
            "Connecting to getfile.dokpub.com (getfile.dokpub.com)|78.46.92.107|:443... connected.\n",
            "HTTP request sent, awaiting response... 302 Moved Temporarily\n",
            "Location: https://downloader.disk.yandex.ru/disk/f89896f58e7961c8c7d58c0598c47dc3becbbeb3b90eda9374b4d2cbf10e8333/617a9ebe/EnbAvYTdHMz2-Pr1wQCZdrWvXWF-t2MbvzNExMCg9hQFUDyoXGJjaI1oEtzyBME6HOCzC5ZumGZ9yspEVl6C8w%3D%3D?uid=0&filename=mushroom_database.csv&disposition=attachment&hash=UubIoOTMHbqeXAshtIugdjEIPWBkuxuNwoaTgRthMPAUPuaBkCQVfLbS6x0ZL4d4q/J6bpmRyOJonT3VoXnDag%3D%3D%3A&limit=0&content_type=text%2Fplain&owner_uid=542830332&fsize=57154&hid=6a49807e9e349b38b249f9290e4368c9&media_type=spreadsheet&tknv=v2 [following]\n",
            "--2021-10-28 08:59:42--  https://downloader.disk.yandex.ru/disk/f89896f58e7961c8c7d58c0598c47dc3becbbeb3b90eda9374b4d2cbf10e8333/617a9ebe/EnbAvYTdHMz2-Pr1wQCZdrWvXWF-t2MbvzNExMCg9hQFUDyoXGJjaI1oEtzyBME6HOCzC5ZumGZ9yspEVl6C8w%3D%3D?uid=0&filename=mushroom_database.csv&disposition=attachment&hash=UubIoOTMHbqeXAshtIugdjEIPWBkuxuNwoaTgRthMPAUPuaBkCQVfLbS6x0ZL4d4q/J6bpmRyOJonT3VoXnDag%3D%3D%3A&limit=0&content_type=text%2Fplain&owner_uid=542830332&fsize=57154&hid=6a49807e9e349b38b249f9290e4368c9&media_type=spreadsheet&tknv=v2\n",
            "Resolving downloader.disk.yandex.ru (downloader.disk.yandex.ru)... 77.88.21.127, 2a02:6b8::2:127\n",
            "Connecting to downloader.disk.yandex.ru (downloader.disk.yandex.ru)|77.88.21.127|:443... connected.\n",
            "HTTP request sent, awaiting response... 302 Found\n",
            "Location: https://s585sas.storage.yandex.net/rdisk/f89896f58e7961c8c7d58c0598c47dc3becbbeb3b90eda9374b4d2cbf10e8333/617a9ebe/EnbAvYTdHMz2-Pr1wQCZdrWvXWF-t2MbvzNExMCg9hQFUDyoXGJjaI1oEtzyBME6HOCzC5ZumGZ9yspEVl6C8w==?uid=0&filename=mushroom_database.csv&disposition=attachment&hash=UubIoOTMHbqeXAshtIugdjEIPWBkuxuNwoaTgRthMPAUPuaBkCQVfLbS6x0ZL4d4q/J6bpmRyOJonT3VoXnDag%3D%3D%3A&limit=0&content_type=text%2Fplain&owner_uid=542830332&fsize=57154&hid=6a49807e9e349b38b249f9290e4368c9&media_type=spreadsheet&tknv=v2&rtoken=Gw7UaWtYnikP&force_default=no&ycrid=na-843ec0b95b662258ddadd2c14a56320c-downloader2h&ts=5cf6948b6ab80&s=3dc5916b54f5d444e906d41988346eae9546c6c04098cdd504c6fd3f0b2878a5&pb=U2FsdGVkX1-xbPEY1FldQhXepgYwNyd7Z747qLSzZSDqHgb_uJX8DvKf-vy8Z8_r26LkVNuzHLi12zkX66W8-tmHpAeoBfrXinE_25KZyBM [following]\n",
            "--2021-10-28 08:59:43--  https://s585sas.storage.yandex.net/rdisk/f89896f58e7961c8c7d58c0598c47dc3becbbeb3b90eda9374b4d2cbf10e8333/617a9ebe/EnbAvYTdHMz2-Pr1wQCZdrWvXWF-t2MbvzNExMCg9hQFUDyoXGJjaI1oEtzyBME6HOCzC5ZumGZ9yspEVl6C8w==?uid=0&filename=mushroom_database.csv&disposition=attachment&hash=UubIoOTMHbqeXAshtIugdjEIPWBkuxuNwoaTgRthMPAUPuaBkCQVfLbS6x0ZL4d4q/J6bpmRyOJonT3VoXnDag%3D%3D%3A&limit=0&content_type=text%2Fplain&owner_uid=542830332&fsize=57154&hid=6a49807e9e349b38b249f9290e4368c9&media_type=spreadsheet&tknv=v2&rtoken=Gw7UaWtYnikP&force_default=no&ycrid=na-843ec0b95b662258ddadd2c14a56320c-downloader2h&ts=5cf6948b6ab80&s=3dc5916b54f5d444e906d41988346eae9546c6c04098cdd504c6fd3f0b2878a5&pb=U2FsdGVkX1-xbPEY1FldQhXepgYwNyd7Z747qLSzZSDqHgb_uJX8DvKf-vy8Z8_r26LkVNuzHLi12zkX66W8-tmHpAeoBfrXinE_25KZyBM\n",
            "Resolving s585sas.storage.yandex.net (s585sas.storage.yandex.net)... 37.9.68.46, 2a02:6b8:c02:e58:0:41af:ad90:77f3\n",
            "Connecting to s585sas.storage.yandex.net (s585sas.storage.yandex.net)|37.9.68.46|:443... connected.\n",
            "HTTP request sent, awaiting response... 200 OK\n",
            "Length: 57154 (56K) [text/plain]\n",
            "Saving to: ‘mushroom_database.csv’\n",
            "\n",
            "mushroom_database.c 100%[===================>]  55.81K   160KB/s    in 0.3s    \n",
            "\n",
            "2021-10-28 08:59:45 (160 KB/s) - ‘mushroom_database.csv’ saved [57154/57154]\n",
            "\n"
          ]
        }
      ],
      "source": [
        "! wget \"https://getfile.dokpub.com/yandex/get/https://yadi.sk/d/pbVsNO4_OvzPag\" -O mushroom_database.csv"
      ]
    },
    {
      "cell_type": "code",
      "execution_count": 31,
      "metadata": {
        "colab": {
          "base_uri": "https://localhost:8080/"
        },
        "id": "jnVqqNH82Ad6",
        "outputId": "5ff02f2a-6522-4ba0-82a2-a1d960c898fa"
      },
      "outputs": [
        {
          "name": "stdout",
          "output_type": "stream",
          "text": [
            "--2021-10-28 08:53:24--  https://getfile.dokpub.com/yandex/get/https://yadi.sk/d/L1vdaKCEG2ZU-w\n",
            "Resolving getfile.dokpub.com (getfile.dokpub.com)... 78.46.92.107\n",
            "Connecting to getfile.dokpub.com (getfile.dokpub.com)|78.46.92.107|:443... connected.\n",
            "HTTP request sent, awaiting response... 302 Moved Temporarily\n",
            "Location: https://downloader.disk.yandex.ru/disk/3f688a917d8b256670358133664db19a393a225d1718fc68f5ad50e53c0a66ce/617a8c88/EnbAvYTdHMz2-Pr1wQCZdvz6CH6pXczG5QcGx8zW6nwqNBTgjWXGKSseifeRVfH8g18mZPcrLqErdjuarKuX0Q%3D%3D?uid=0&filename=mushroom_model.pt&disposition=attachment&hash=aZU23jpjhOWHhUFGsyp9epyCf6ANnTmwRrMUl2aXjBu34bx%2BZpcoF7Rf2Sziuozmq/J6bpmRyOJonT3VoXnDag%3D%3D%3A&limit=0&content_type=application%2Fzip&owner_uid=542830332&fsize=44819917&hid=0a53b56ff4f1fdcf066ac84cb570588e&media_type=compressed&tknv=v2 [following]\n",
            "--2021-10-28 08:53:24--  https://downloader.disk.yandex.ru/disk/3f688a917d8b256670358133664db19a393a225d1718fc68f5ad50e53c0a66ce/617a8c88/EnbAvYTdHMz2-Pr1wQCZdvz6CH6pXczG5QcGx8zW6nwqNBTgjWXGKSseifeRVfH8g18mZPcrLqErdjuarKuX0Q%3D%3D?uid=0&filename=mushroom_model.pt&disposition=attachment&hash=aZU23jpjhOWHhUFGsyp9epyCf6ANnTmwRrMUl2aXjBu34bx%2BZpcoF7Rf2Sziuozmq/J6bpmRyOJonT3VoXnDag%3D%3D%3A&limit=0&content_type=application%2Fzip&owner_uid=542830332&fsize=44819917&hid=0a53b56ff4f1fdcf066ac84cb570588e&media_type=compressed&tknv=v2\n",
            "Resolving downloader.disk.yandex.ru (downloader.disk.yandex.ru)... 77.88.21.127, 2a02:6b8::2:127\n",
            "Connecting to downloader.disk.yandex.ru (downloader.disk.yandex.ru)|77.88.21.127|:443... connected.\n",
            "HTTP request sent, awaiting response... 302 Found\n",
            "Location: https://s693sas.storage.yandex.net/rdisk/3f688a917d8b256670358133664db19a393a225d1718fc68f5ad50e53c0a66ce/617a8c88/EnbAvYTdHMz2-Pr1wQCZdvz6CH6pXczG5QcGx8zW6nwqNBTgjWXGKSseifeRVfH8g18mZPcrLqErdjuarKuX0Q==?uid=0&filename=mushroom_model.pt&disposition=attachment&hash=aZU23jpjhOWHhUFGsyp9epyCf6ANnTmwRrMUl2aXjBu34bx%2BZpcoF7Rf2Sziuozmq/J6bpmRyOJonT3VoXnDag%3D%3D%3A&limit=0&content_type=application%2Fzip&owner_uid=542830332&fsize=44819917&hid=0a53b56ff4f1fdcf066ac84cb570588e&media_type=compressed&tknv=v2&rtoken=GXZF2hIwCJd1&force_default=no&ycrid=na-1fd289ee2669177fe048a2b6415cea93-downloader1e&ts=5cf6832d63200&s=eefa0df1553739d5ac25ada6c6355497615538b6502be37b13b7fbfe40fc5e14&pb=U2FsdGVkX19TvRcKyfYS80KMp7bZ3cV9GT2ERp7u1gySLTe-JpZgsAhAVJAfFVIUIIxwo9BU_Y3XtOmA7ny3GvSLuZ19G5sXlcgFXbiOh6s [following]\n",
            "--2021-10-28 08:53:26--  https://s693sas.storage.yandex.net/rdisk/3f688a917d8b256670358133664db19a393a225d1718fc68f5ad50e53c0a66ce/617a8c88/EnbAvYTdHMz2-Pr1wQCZdvz6CH6pXczG5QcGx8zW6nwqNBTgjWXGKSseifeRVfH8g18mZPcrLqErdjuarKuX0Q==?uid=0&filename=mushroom_model.pt&disposition=attachment&hash=aZU23jpjhOWHhUFGsyp9epyCf6ANnTmwRrMUl2aXjBu34bx%2BZpcoF7Rf2Sziuozmq/J6bpmRyOJonT3VoXnDag%3D%3D%3A&limit=0&content_type=application%2Fzip&owner_uid=542830332&fsize=44819917&hid=0a53b56ff4f1fdcf066ac84cb570588e&media_type=compressed&tknv=v2&rtoken=GXZF2hIwCJd1&force_default=no&ycrid=na-1fd289ee2669177fe048a2b6415cea93-downloader1e&ts=5cf6832d63200&s=eefa0df1553739d5ac25ada6c6355497615538b6502be37b13b7fbfe40fc5e14&pb=U2FsdGVkX19TvRcKyfYS80KMp7bZ3cV9GT2ERp7u1gySLTe-JpZgsAhAVJAfFVIUIIxwo9BU_Y3XtOmA7ny3GvSLuZ19G5sXlcgFXbiOh6s\n",
            "Resolving s693sas.storage.yandex.net (s693sas.storage.yandex.net)... 93.158.158.169, 2a02:6b8:c02:f4d:0:41af:4eae:75b0\n",
            "Connecting to s693sas.storage.yandex.net (s693sas.storage.yandex.net)|93.158.158.169|:443... connected.\n",
            "HTTP request sent, awaiting response... 200 OK\n",
            "Length: 44819917 (43M) [application/zip]\n",
            "Saving to: ‘mushroom_model.pt’\n",
            "\n",
            "mushroom_model.pt   100%[===================>]  42.74M  12.0MB/s    in 4.6s    \n",
            "\n",
            "2021-10-28 08:53:31 (9.38 MB/s) - ‘mushroom_model.pt’ saved [44819917/44819917]\n",
            "\n"
          ]
        }
      ],
      "source": [
        "! wget \"https://getfile.dokpub.com/yandex/get/https://yadi.sk/d/L1vdaKCEG2ZU-w\" -O mushroom_model.pt"
      ]
    },
    {
      "cell_type": "code",
      "execution_count": 32,
      "metadata": {
        "id": "mRITWm8-3AQ0"
      },
      "outputs": [],
      "source": [
        "model_new = torch.load('mushroom_model.pt')"
      ]
    },
    {
      "cell_type": "code",
      "execution_count": 33,
      "metadata": {
        "id": "sBO2Up542l9e"
      },
      "outputs": [],
      "source": [
        "img_test = Image.open(\"/content/muhomor.jpg\")\n",
        "img_tensor = resnet_transforms(img_test)"
      ]
    },
    {
      "cell_type": "code",
      "execution_count": 34,
      "metadata": {
        "colab": {
          "base_uri": "https://localhost:8080/"
        },
        "id": "pXIgzYRD2v6A",
        "outputId": "79a6a675-6a75-4212-e5d0-24ca1d832546"
      },
      "outputs": [
        {
          "name": "stdout",
          "output_type": "stream",
          "text": [
            "8\n"
          ]
        }
      ],
      "source": [
        "img_tensor = img_tensor.view(1, 3, 224, 224)\n",
        "\n",
        "output = model_new(img_tensor)\n",
        "\n",
        "prediction_new = int(torch.max(output.data, 1)[1].numpy())\n",
        "print(prediction_new)"
      ]
    },
    {
      "cell_type": "code",
      "execution_count": 35,
      "metadata": {
        "id": "AvVKOAtdD9Xo"
      },
      "outputs": [],
      "source": [
        "mtd = pd.read_csv('mushroom_database.csv')"
      ]
    },
    {
      "cell_type": "code",
      "execution_count": 36,
      "metadata": {
        "colab": {
          "base_uri": "https://localhost:8080/",
          "height": 318
        },
        "id": "R8Hv7EldFVGQ",
        "outputId": "6234412d-1415-4158-caf3-d281a82d8e6a"
      },
      "outputs": [
        {
          "data": {
            "text/html": [
              "<div>\n",
              "<style scoped>\n",
              "    .dataframe tbody tr th:only-of-type {\n",
              "        vertical-align: middle;\n",
              "    }\n",
              "\n",
              "    .dataframe tbody tr th {\n",
              "        vertical-align: top;\n",
              "    }\n",
              "\n",
              "    .dataframe thead th {\n",
              "        text-align: right;\n",
              "    }\n",
              "</style>\n",
              "<table border=\"1\" class=\"dataframe\">\n",
              "  <thead>\n",
              "    <tr style=\"text-align: right;\">\n",
              "      <th></th>\n",
              "      <th>mushroom</th>\n",
              "      <th>description</th>\n",
              "      <th>usefulness</th>\n",
              "      <th>fact</th>\n",
              "      <th>recipe</th>\n",
              "      <th>Unnamed: 5</th>\n",
              "    </tr>\n",
              "  </thead>\n",
              "  <tbody>\n",
              "    <tr>\n",
              "      <th>0</th>\n",
              "      <td>Белый гриб</td>\n",
              "      <td>Белый гриб, как впрочем, и другие грибы рода б...</td>\n",
              "      <td>Белые грибы очень полезны при сердечно-сосудис...</td>\n",
              "      <td>При подсушке этот гриб продолжает оставаться б...</td>\n",
              "      <td>Паста с белыми грибами \\nПродукты: \\nБелые гри...</td>\n",
              "      <td></td>\n",
              "    </tr>\n",
              "    <tr>\n",
              "      <th>1</th>\n",
              "      <td>Бледная поганка</td>\n",
              "      <td>Молодое растение внешне напоминает яйцо, целик...</td>\n",
              "      <td>Несмотря на смертельную токсичность, этот гриб...</td>\n",
              "      <td>Бледная поганка является самым ядовитым грибом...</td>\n",
              "      <td></td>\n",
              "      <td></td>\n",
              "    </tr>\n",
              "    <tr>\n",
              "      <th>2</th>\n",
              "      <td>Волнушка</td>\n",
              "      <td>Это пластинчатые, условно-съедобные грибы, кот...</td>\n",
              "      <td>Волнушка имеет обезболивающее действие. Оказыв...</td>\n",
              "      <td>Микроэлементы, которые входят в состав мякоти ...</td>\n",
              "      <td>Волнушки соленые на зиму  \\nПродукты: \\nВолнуш...</td>\n",
              "      <td></td>\n",
              "    </tr>\n",
              "    <tr>\n",
              "      <th>3</th>\n",
              "      <td>Груздь</td>\n",
              "      <td>Невероятно густой грибной аромат исходит от бл...</td>\n",
              "      <td>Профилактика и снятие нарушений желчевыводящих...</td>\n",
              "      <td>На Руси груздь считался единственным грибом, п...</td>\n",
              "      <td>Соленые грузди  \\nНикакие маринованные шампинь...</td>\n",
              "      <td></td>\n",
              "    </tr>\n",
              "    <tr>\n",
              "      <th>4</th>\n",
              "      <td>Лисичка</td>\n",
              "      <td>Лисички довольно красивые, вкусные и полезные ...</td>\n",
              "      <td>В Европе вытяжками из лисичек лечат заболевани...</td>\n",
              "      <td>Самые крупные экземпляры весят 0,5 кг и встреч...</td>\n",
              "      <td>Жареные лисички с чесноком \\nЛесные грибы, жар...</td>\n",
              "      <td></td>\n",
              "    </tr>\n",
              "  </tbody>\n",
              "</table>\n",
              "</div>"
            ],
            "text/plain": [
              "          mushroom  ... Unnamed: 5\n",
              "0       Белый гриб  ...           \n",
              "1  Бледная поганка  ...           \n",
              "2         Волнушка  ...           \n",
              "3           Груздь  ...           \n",
              "4          Лисичка  ...           \n",
              "\n",
              "[5 rows x 6 columns]"
            ]
          },
          "execution_count": 36,
          "metadata": {},
          "output_type": "execute_result"
        }
      ],
      "source": [
        "mtd.head()"
      ]
    },
    {
      "cell_type": "code",
      "execution_count": 39,
      "metadata": {
        "colab": {
          "base_uri": "https://localhost:8080/"
        },
        "id": "xvtuWd-qFv18",
        "outputId": "961c700c-3f5f-42b1-b882-01941326552f"
      },
      "outputs": [
        {
          "name": "stdout",
          "output_type": "stream",
          "text": [
            "Опята\n",
            "Опята имеют шляпку, которая в молодости полушаровидной формы, которая позже становится зонтиковидной У съедобных опят шляпка покрыта мелкими чешуйками, которые к старению гриба практически исчезают. Иногда шляпка покрыта слоем слизи. Опята растут на ослабленных или поврежденных деревьях, а также на подгнившей или омертвевшей древесине. Важно! У съедобных опят шляпка покрыта мелкими чешуйками, которые к старению гриба практически исчезают. У съедобных представителей на ножке имеется белое колечко!\n",
            "Свежие грибы опята – хороший источник белка и витаминов. При этом они не перегружены калориями. Вот почему их включают в рацион вегетарианцы и худеющие. В народной медицине опята применяются как естественные антибиотики. С помощью спиртового настоя выводят бородавки. Опята, как и другие грибы, дрожжи, водоросли и лишайники, содержат бета-глюканы – сахара, входящие в состав лекарств. Эти соединения препятствуют развитию раковых опухолей, сахарного диабета, гипертонии и атеросклероза. Медики рекомендуют их для борьбы со стафилококком и кишечной палочкой.\n",
            "А вы знаете, что опёнок считается самым тяжелым живым организмом на планете? Две крупнейшие грибницы опёнка находятся в США (Мичиган и Орегон), одна из них занимает площадь 37 гектаров и весит втрое больше синего кита, а срок её жизни оценивается в две с половиной тысячи лет. Вторая грибница ещё крупнее, занимает 880 гектаров. Видели в лесу светящиеся гнилушки? Это опёнок. Свечение испускают активно растущие гифы и молодые плодовые тела. \n",
            "Маринованные опята \\nПродукты: \\nОпята свежие - 1 кг \\nВода - 200-400 мл \\nСоль - 30 г \\nУксус - 2 ст. ложки \\nПерец душистый горошком - 3-5шт. \\nПерец черный горошком - 3-5 шт. \\nГвоздика - 3-5 шт. \\nЛавровый лист - 3-5 шт. \\nЗонтик укропа - 1 шт. \\nПошаговый рецепт: \\nПереберите грибы. Взвесьте. Рецепт на 1 кг свежих грибов до мытья. Варится такой объем в 4-5-литровой кастрюле. Затем замочите грибы на 20-30 минут в холодной воде. В воду добавьте 2 столовых ложки соли и пол-лимона. Соль прогонит жучков и червячков, если они решили остаться, а лимон не даст грибам почернеть. Нарежьте грибы. Маленькие грибки оставьте целиком, большие грибы разрежьте на средние куски (увариваются они в 2,5 раза). \\nЕсли грибы очень сухие, возьмите 400-450 мл воды, если влажные - 250 мл. Вскипятите воду на плите, размешайте в ней 30 г соли (столовая ложка с горкой), добавьте грибы. За 5-7 минут воды станет больше, грибы закипят, осядут и пойдет пена. В течение 5 минут снимайте пену. \\nКак только пена перестанет образовываться (примерно через 5 минут), уменьшите огонь до среднего. Добавьте специи. Варите грибы на среднем огне 20 минут без крышки, изредка помешивая, чтобы грибы не приставали ко дну. Одновременно поместите влажные чистые банки в холодную духовку для стерилизации. Температуру установите 120 градусов. \\nЧерез 15 минут залейте крышки кипятком и поставьте на большой огонь. Еще через 3 минуты добавьте уксус и поварите 2 минуты. \\nТеперь все можно выключить, в том числе духовку. \\nРаскладывайте грибы во все банки одновременно, тогда разложится поровну. Укладывайте максимально плотно. Если рассола не хватило, долейте кипяток \"с горкой\" и закручивайте крышки. \\nПереверните банки на 5 минут, проверьте, что нет течи. Затем уберите в тепло на сутки крышкам вверх. Приятного аппетита! \\n \\n\n"
          ]
        }
      ],
      "source": [
        "print(mtd['mushroom'].values[prediction_new])\n",
        "print()\n",
        "print(mtd['description'].values[prediction_new])\n",
        "print()\n",
        "print(mtd['usefulness'].values[prediction_new])\n",
        "print()\n",
        "print(mtd['fact'].values[prediction_new])\n",
        "print()\n",
        "print(mtd['recipe'].values[prediction_new].replace(r'\\n', '\\n'))"
      ]
    },
    {
      "cell_type": "code",
      "execution_count": 42,
      "metadata": {
        "colab": {
          "base_uri": "https://localhost:8080/",
          "height": 35
        },
        "id": "GifI31aaM2t6",
        "outputId": "009e2968-5338-493a-f3a7-a3140f8d391a"
      },
      "outputs": [
        {
          "data": {
            "application/vnd.google.colaboratory.intrinsic+json": {
              "type": "string"
            },
            "text/plain": [
              "'1.1.5'"
            ]
          },
          "execution_count": 42,
          "metadata": {},
          "output_type": "execute_result"
        }
      ],
      "source": [
        "pd.__version__"
      ]
    }
  ],
  "metadata": {
    "colab": {
      "name": "network_usecase.ipynb",
      "provenance": []
    },
    "kernelspec": {
      "display_name": "Python 3",
      "name": "python3"
    },
    "language_info": {
      "name": "python"
    }
  },
  "nbformat": 4,
  "nbformat_minor": 0
}
